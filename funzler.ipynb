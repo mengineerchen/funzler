{
 "cells": [
  {
   "cell_type": "markdown",
   "metadata": {},
   "source": [
    "# Funzler: a Functional Deficiency Diagnosis Tool"
   ]
  },
  {
   "cell_type": "markdown",
   "metadata": {},
   "source": [
    "## Goal\n",
    "Funzler is a knowledge based functional deficiency diagnosis tool. Its goal is to identify \"surprising\" data parts, in which some critical events are observed but no explanations can be inferred from its built-in knowledge base.\n",
    "## Overview\n",
    "<br>\n",
    "<img src=\"./csa/img/overview.png\" width=\"500\">\n",
    "<br>"
   ]
  },
  {
   "cell_type": "markdown",
   "metadata": {},
   "source": [
    "## Input\n",
    "1. An **observation of critical events**, represented in a list\n",
    "  - E.g. if we have 3 events, [-1 1 0] means the first event is absent, the second present, the third unknown.\n",
    "  - Encoding: 1=present, 0=unknown, -1=absent\n",
    "\n",
    "2. Available **measurements about boundaries** (optional, explained in the following)\n",
    "\n",
    "Assumption: Generating this input from raw data is possible."
   ]
  },
  {
   "cell_type": "markdown",
   "metadata": {},
   "source": [
    "## Knowledge model\n",
    "In a **traffic light detection** context, for instance...\n",
    "<img src=\"./csa/img/example.png\" width=\"500\">\n",
    "\n",
    "- **Events**\n",
    "  - m_1: Red traffic light for ego lane is not detected\n",
    "  - m_2: Ego vehicle detects traffic light (for ego lane) or something very near to it but\n",
    "recognizes green / yellow state\n",
    "- **Boundary**: potentially critical scenarios\n",
    "- **Relation**: {impossible, almost impossible, unlikely, unknown, likely, almost certain, certain}"
   ]
  },
  {
   "cell_type": "markdown",
   "metadata": {},
   "source": [
    "## Output\n",
    "Input is classified into\n",
    "- **fail pending**: Funzler can find some potential explanations, but the boundaries in the explanation are happening or not? No idea.\n",
    "- **fail known**: Funzler can find some plausible explanations from knowledge base.\n",
    "- **fail unknown**: Funzler can't find any plausible explanations from knowledge base.\n",
    "\n",
    "Let's run an example."
   ]
  },
  {
   "cell_type": "markdown",
   "metadata": {},
   "source": [
    "## Imports"
   ]
  },
  {
   "cell_type": "code",
   "execution_count": null,
   "metadata": {},
   "outputs": [],
   "source": [
    "from funzler_start import main as start\n",
    "from funzler_update import update as update\n",
    "from IPython.display import Image\n",
    "\n",
    "WORKSPACE = \"/home/mengineer/workspace/funzler/\"\n",
    "def inspect_img(bo_id=0):\n",
    "    path = \"{}/csa/img/{}.png\".format(WORKSPACE,bo_id+1)\n",
    "    img = None\n",
    "    try:\n",
    "        img = Image(filename=path, width=256)\n",
    "    except FileNotFoundError:\n",
    "        print(\"No image file is found.\")\n",
    "    if img:\n",
    "        display(img)"
   ]
  },
  {
   "cell_type": "markdown",
   "metadata": {},
   "source": [
    "## Start a session"
   ]
  },
  {
   "cell_type": "code",
   "execution_count": null,
   "metadata": {},
   "outputs": [],
   "source": [
    "start()"
   ]
  },
  {
   "cell_type": "markdown",
   "metadata": {},
   "source": [
    "## Inspect sample images (optional)"
   ]
  },
  {
   "cell_type": "code",
   "execution_count": null,
   "metadata": {},
   "outputs": [],
   "source": [
    "inspect_img()"
   ]
  },
  {
   "cell_type": "markdown",
   "metadata": {},
   "source": [
    "## Why do this?\n",
    "Assume we have no data at all about \"whether boundaries are happening or not\", we get always either fail unknown or fail pending. Wait... When you get a fail pending, what if you watch the image frames and annotate whether the boundaries are occurring or not? Then it would be possible to update the input and iterate the diagnosis towards fail known / fail unknown.\n",
    "\n",
    "As a \"scenario mining\" tester, the more **fail unknowns** are discovered, the more surprising scenarios could be understood for further validating an AD system!"
   ]
  },
  {
   "cell_type": "markdown",
   "metadata": {},
   "source": [
    "## Update and rerun"
   ]
  },
  {
   "cell_type": "code",
   "execution_count": null,
   "metadata": {},
   "outputs": [],
   "source": [
    "update()"
   ]
  },
  {
   "cell_type": "markdown",
   "metadata": {},
   "source": [
    "## Deeper look into data (optional)"
   ]
  },
  {
   "cell_type": "code",
   "execution_count": null,
   "metadata": {},
   "outputs": [],
   "source": [
    "import pandas as pd\n",
    "output=pd.read_csv(\"{}/_tmp_output.csv\".format(WORKSPACE))\n",
    "input=pd.read_csv(\"{}/_tmp_input.csv\".format(WORKSPACE))"
   ]
  },
  {
   "cell_type": "code",
   "execution_count": null,
   "metadata": {},
   "outputs": [],
   "source": [
    "# Output indices\n",
    "output.columns"
   ]
  },
  {
   "cell_type": "code",
   "execution_count": null,
   "metadata": {},
   "outputs": [],
   "source": [
    "# Input data\n",
    "input.columns"
   ]
  },
  {
   "cell_type": "code",
   "execution_count": null,
   "metadata": {},
   "outputs": [],
   "source": [
    "# Example relations in the kb\n",
    "print(input.loc[:,\"u_ev_plus(ev1)\":\"u_ev_minus(ev5)\"])"
   ]
  },
  {
   "cell_type": "code",
   "execution_count": null,
   "metadata": {},
   "outputs": [],
   "source": [
    "# First 10 lines of relations\n",
    "print(input.loc[0:10,\"u_ev_plus(ev1)\":\"u_ev_minus(ev5)\"])"
   ]
  },
  {
   "cell_type": "code",
   "execution_count": null,
   "metadata": {},
   "outputs": [],
   "source": [
    "# Last session's observation\n",
    "print(input.loc[:,\"observation\"])"
   ]
  },
  {
   "cell_type": "markdown",
   "metadata": {},
   "source": [
    "## Reading materials\n",
    "- M. Chen, A. Knapp and K. Dietmayer, \"Possibilistic Causal Reasoning Approach to Functional Deficiency Diagnosis of Automated Driving System,\" 2018 3rd International Conference on System Reliability and Safety (ICSRS), Barcelona, Spain, 2018, pp. 333-339, doi: 10.1109/ICSRS.2018.8688858. https://ieeexplore.ieee.org/document/8688858\n",
    "- M. Chen, A. Knapp, M. Pohl and K. Dietmayer, \"Taming Functional Deficiencies of Automated Driving Systems: a Methodology Framework toward Safety Validation,\" 2018 IEEE Intelligent Vehicles Symposium (IV), Changshu, 2018, pp. 1918-1924, doi: 10.1109/IVS.2018.8500679. https://ieeexplore.ieee.org/document/8500679"
   ]
  }
 ],
 "metadata": {
  "kernelspec": {
   "display_name": "Python 3",
   "language": "python",
   "name": "python3"
  },
  "language_info": {
   "codemirror_mode": {
    "name": "ipython",
    "version": 3
   },
   "file_extension": ".py",
   "mimetype": "text/x-python",
   "name": "python",
   "nbconvert_exporter": "python",
   "pygments_lexer": "ipython3",
   "version": "3.8.10"
  }
 },
 "nbformat": 4,
 "nbformat_minor": 2
}
