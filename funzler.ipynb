{
 "cells": [
  {
   "cell_type": "markdown",
   "metadata": {},
   "source": [
    "# Funzler: a tool for diagnosing critical events based on expert knowledge"
   ]
  },
  {
   "cell_type": "markdown",
   "metadata": {},
   "source": [
    "## Overview of underlying concepts:\n",
    "<br>\n",
    "<div>\n",
    "<img src=\"./csa/img/overview.png\" width=\"700\">\n",
    "</div> \n",
    "\n",
    "- \"Causal modeling\" part provides causality knowledge between events (ego viewpoint) and scenarios (external world viewpoint, aka. boundaries).\n",
    "- Funzler is a PoC implementation of the \"causal reasoning\" part.\n",
    "- Funzler takes as input an observation of events (and optionally measurements of boundaries).\n",
    "- Funzler gives as output a label among fail known/unknown/pending.\n",
    "- \"Extented knowledge model\" and \"knowledge update\" are not in the scope of this notebook."
   ]
  },
  {
   "cell_type": "markdown",
   "metadata": {},
   "source": [
    "## Import main functions"
   ]
  },
  {
   "cell_type": "code",
   "execution_count": null,
   "metadata": {},
   "outputs": [],
   "source": [
    "from funzler_start import main as start\n",
    "from funzler_update import update as update\n",
    "from IPython.display import Image\n",
    "\n",
    "WORKSPACE = \"/lhome/menchen/workspace/funzler/\"\n",
    "def inspect_img(bo_id=0):\n",
    "    path = \"{}/csa/img/{}.png\".format(WORKSPACE,bo_id+1)\n",
    "    img = None\n",
    "    try:\n",
    "        img = Image(filename=path, width=256)\n",
    "    except FileNotFoundError:\n",
    "        print(\"No image file is found.\")\n",
    "    if img:\n",
    "        display(img)"
   ]
  },
  {
   "cell_type": "markdown",
   "metadata": {},
   "source": [
    "## Start a diagnosis session"
   ]
  },
  {
   "cell_type": "code",
   "execution_count": null,
   "metadata": {},
   "outputs": [],
   "source": [
    "start()"
   ]
  },
  {
   "cell_type": "markdown",
   "metadata": {},
   "source": [
    "## Inspect sample images for boundaries (optional)"
   ]
  },
  {
   "cell_type": "code",
   "execution_count": null,
   "metadata": {},
   "outputs": [],
   "source": [
    "inspect_img()"
   ]
  },
  {
   "cell_type": "markdown",
   "metadata": {},
   "source": [
    "## Update measurements of the last session"
   ]
  },
  {
   "cell_type": "code",
   "execution_count": null,
   "metadata": {},
   "outputs": [],
   "source": [
    "update()"
   ]
  },
  {
   "cell_type": "markdown",
   "metadata": {},
   "source": [
    "## Show output csv in a dataframe (optional)"
   ]
  },
  {
   "cell_type": "code",
   "execution_count": null,
   "metadata": {},
   "outputs": [],
   "source": [
    "import pandas as pd\n",
    "output=pd.read_csv(\"{}/_tmp_output.csv\".format(WORKSPACE))"
   ]
  },
  {
   "cell_type": "code",
   "execution_count": null,
   "metadata": {},
   "outputs": [],
   "source": [
    "output.columns"
   ]
  },
  {
   "cell_type": "markdown",
   "metadata": {},
   "source": [
    "## Reading materials\n",
    "- M. Chen, A. Knapp and K. Dietmayer, \"Possibilistic Causal Reasoning Approach to Functional Deficiency Diagnosis of Automated Driving System,\" 2018 3rd International Conference on System Reliability and Safety (ICSRS), Barcelona, Spain, 2018, pp. 333-339, doi: 10.1109/ICSRS.2018.8688858. https://ieeexplore.ieee.org/document/8688858\n",
    "- M. Chen, A. Knapp, M. Pohl and K. Dietmayer, \"Taming Functional Deficiencies of Automated Driving Systems: a Methodology Framework toward Safety Validation,\" 2018 IEEE Intelligent Vehicles Symposium (IV), Changshu, 2018, pp. 1918-1924, doi: 10.1109/IVS.2018.8500679. https://ieeexplore.ieee.org/document/8500679"
   ]
  }
 ],
 "metadata": {
  "kernelspec": {
   "display_name": "Python 3",
   "language": "python",
   "name": "python3"
  },
  "language_info": {
   "codemirror_mode": {
    "name": "ipython",
    "version": 3
   },
   "file_extension": ".py",
   "mimetype": "text/x-python",
   "name": "python",
   "nbconvert_exporter": "python",
   "pygments_lexer": "ipython3",
   "version": "3.8.5"
  }
 },
 "nbformat": 4,
 "nbformat_minor": 2
}
