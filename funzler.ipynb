{
 "cells": [
  {
   "cell_type": "markdown",
   "metadata": {},
   "source": [
    "# Notebook for using the funzler tool\n",
    "## Import main functions of the executables"
   ]
  },
  {
   "cell_type": "code",
   "execution_count": 16,
   "metadata": {},
   "outputs": [],
   "source": [
    "from funzler_start import main as start\n",
    "from funzler_update import update as update"
   ]
  },
  {
   "cell_type": "markdown",
   "metadata": {},
   "source": [
    "## Start a diagnosis session"
   ]
  },
  {
   "cell_type": "code",
   "execution_count": 19,
   "metadata": {},
   "outputs": [
    {
     "name": "stdout",
     "output_type": "stream",
     "text": [
      "['event: Red traffic light for ego lane is not detected'\n",
      " 'event: Ego vehicle detects traffic light (for ego lane) or something very near to it but recognizes green / yellow'\n",
      " 'event: Green / yellow traffic light for parallel lane is detected'\n",
      " 'event: Green / yellow traffic light for intersecting lane is detected'\n",
      " 'event: Green / yellow traffic light for another intersection is detected']\n",
      "Enter observation of events:1 0 0 0 1\n",
      "****************Results***************\n",
      "fail pending\n",
      "measurement suggestion:\n",
      "high rain intensity IN handle traffic light intersections while driving in lane (id 17)\n",
      "high fog density IN handle traffic light intersections while driving in lane (id 21)\n",
      "low distance between two intersections IN handle traffic light intersections while driving in lane (id 70)\n",
      "high gradient change (descending to ascending or level) IN handle traffic light intersections while driving in lane (id 30)\n",
      "high adjacent bus size IN handle traffic light intersections while driving in lane (id 83)\n",
      "high traffic light puls frequency IN handle traffic light intersections while driving in lane (id 88)\n",
      "high deviation from normal traffic light types IN handle traffic light intersections while driving in lane (id 89)\n",
      "high leading bus size IN handle traffic light intersections while driving in lane (id 82)\n",
      "high gradient change (ascending to descending or level) IN handle traffic light intersections while driving in lane (id 32)\n",
      "high adjacent car size IN handle traffic light intersections while driving in lane (id 81)\n",
      "******************End*****************\n"
     ]
    }
   ],
   "source": [
    "start()"
   ]
  },
  {
   "cell_type": "markdown",
   "metadata": {},
   "source": [
    "## Update measurements of the last session"
   ]
  },
  {
   "cell_type": "code",
   "execution_count": 21,
   "metadata": {},
   "outputs": [
    {
     "name": "stdout",
     "output_type": "stream",
     "text": [
      "Enter updated boundary measurement:\n",
      "****************Results***************\n",
      "fail pending\n",
      "measurement suggestion:\n",
      "high leading truck size IN handle traffic light intersections while driving in lane (id 84)\n",
      "high backlight instensity IN handle traffic light intersections while driving in lane (id 22)\n",
      "high gradient change (ascending to descending or level) IN handle traffic light intersections while driving in lane (id 32)\n",
      "high leading bus size IN handle traffic light intersections while driving in lane (id 82)\n",
      "low distance car-following IN handle traffic light intersections while driving in lane (id 4)\n",
      "high adjacent car size IN handle traffic light intersections while driving in lane (id 81)\n",
      "high parked car size on the roadside IN handle traffic light intersections while driving in lane (id 6)\n",
      "high leading car size IN handle traffic light intersections while driving in lane (id 80)\n",
      "low visibility windshield IN handle traffic light intersections while driving in lane (id 18)\n",
      "high adjecent truck size IN handle traffic light intersections while driving in lane (id 85)\n",
      "******************End*****************\n"
     ]
    }
   ],
   "source": [
    "update()"
   ]
  },
  {
   "cell_type": "code",
   "execution_count": 22,
   "metadata": {},
   "outputs": [
    {
     "name": "stdout",
     "output_type": "stream",
     "text": [
      "Enter updated boundary measurement:84 0 22 0 32 0 82 0 4 0.3 81 0.5 6 0.3 80 0 18 1 85 0.9\n",
      "****************Results***************\n",
      "fail pending\n",
      "measurement suggestion:\n",
      "high traffic light position IN handle traffic light intersections while driving in lane (id 95)\n",
      "low traffic light position IN handle traffic light intersections while driving in lane (id 96)\n",
      "******************End*****************\n"
     ]
    }
   ],
   "source": [
    "update()"
   ]
  },
  {
   "cell_type": "code",
   "execution_count": 23,
   "metadata": {},
   "outputs": [
    {
     "name": "stdout",
     "output_type": "stream",
     "text": [
      "Enter updated boundary measurement:95 0.2 96 0.8\n",
      "****************Results***************\n",
      "fail known\n",
      "The most plausible solution: plausi=0.853333, low visibility windshield IN handle traffic light intersections while driving in lane (id 18) & low distance between two intersections IN handle traffic light intersections while driving in lane (id 70)\n",
      "******************End*****************\n"
     ]
    }
   ],
   "source": [
    "update()"
   ]
  },
  {
   "cell_type": "code",
   "execution_count": 24,
   "metadata": {},
   "outputs": [
    {
     "name": "stdout",
     "output_type": "stream",
     "text": [
      "cp: cannot stat './_tmp*.csv': No such file or directory\r\n"
     ]
    }
   ],
   "source": [
    "cp \"./_tmp*.csv\" \"/tmp\""
   ]
  },
  {
   "cell_type": "code",
   "execution_count": null,
   "metadata": {},
   "outputs": [],
   "source": []
  }
 ],
 "metadata": {
  "kernelspec": {
   "display_name": "Python 3",
   "language": "python",
   "name": "python3"
  },
  "language_info": {
   "codemirror_mode": {
    "name": "ipython",
    "version": 3
   },
   "file_extension": ".py",
   "mimetype": "text/x-python",
   "name": "python",
   "nbconvert_exporter": "python",
   "pygments_lexer": "ipython3",
   "version": "3.8.2"
  }
 },
 "nbformat": 4,
 "nbformat_minor": 2
}
