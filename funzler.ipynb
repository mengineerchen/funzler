{
 "cells": [
  {
   "cell_type": "markdown",
   "metadata": {},
   "source": [
    "# Funzler: a Functional Deficiency Diagnosis Tool"
   ]
  },
  {
   "cell_type": "markdown",
   "metadata": {},
   "source": [
    "## What is Funzler\n",
    "The goal of Funzler is to identify data parts, in which no explanations at all can be found from its knowledge base.\n",
    "## High level overview\n",
    "<br>\n",
    "<img src=\"./csa/img/overview.png\" width=\"500\">\n",
    "<br>"
   ]
  },
  {
   "cell_type": "markdown",
   "metadata": {},
   "source": [
    "## How does a knowledge model look like?\n",
    "For instance, in a traffic light detection context, it could look like this\n",
    "<img src=\"./csa/img/example.png\" width=\"500\">\n",
    "\n",
    "We focus on these terms here...\n",
    "- Events\n",
    "  - m_1: Red traffic light for ego lane is not detected\n",
    "  - m_2: Ego vehicle detects traffic light (for ego lane) or something very near to it but\n",
    "recognizes green / yellow state\n",
    "- Use Case UC_1: Handle traffic light intersections while driving in lane (the only one in this example)\n",
    "- Boundary: Scenarios which could cause some critical events <br>\n",
    "- Relation: {impossible, almost impossible, unlikely, unknown, likely, almost certain, certain}"
   ]
  },
  {
   "cell_type": "markdown",
   "metadata": {},
   "source": [
    "## How does the input look like?\n",
    "- Input is an observation of critical events, which is to be diagnosed. Encoding is 1, 0, -1, representing present, unknown, absent, respectively.\n",
    "- E.g. [-1 1] means m_1 is absent, m_2 is present (red TL for ego is detected, but also a green / yellow TL is detected near it).\n",
    "- E.g. [1 0] means m_1 is present, m_2 is unknown.\n",
    "\n",
    "## How does the output look like?\n",
    "One of these three labels:\n",
    "- fail pending: Funzler can find some potential explanations, but the boundaries in the explanation are happening or not? No idea.\n",
    "- fail known: Funzler can find some plausible explanations from knowledge base.\n",
    "- fail unknown: Funzler can't find any plausible explanations from knowledge base.\n",
    "\n",
    "Assume we have no data at all about \"whether boundaries are happening or not\", we get always either fail unknown or fail pending. Wait... When you get a fail pending, what if you watch the image frames and annotate whether the boundaries are occurring or not? Then it would be possible to update the input and iterate the diagnosis towards fail known / fail unknown."
   ]
  },
  {
   "cell_type": "markdown",
   "metadata": {},
   "source": [
    "## Why this?\n",
    "As a scenario-mining tester, the more fail unknowns, the more interesting scenarios could be discovered!\n",
    "\n",
    "Let's run an example."
   ]
  },
  {
   "cell_type": "markdown",
   "metadata": {},
   "source": [
    "## Import main functions"
   ]
  },
  {
   "cell_type": "code",
   "execution_count": null,
   "metadata": {},
   "outputs": [],
   "source": [
    "from funzler_start import main as start\n",
    "from funzler_update import update as update\n",
    "from IPython.display import Image\n",
    "\n",
    "WORKSPACE = \"/home/mengineer/workspace/funzler/\"\n",
    "def inspect_img(bo_id=0):\n",
    "    path = \"{}/csa/img/{}.png\".format(WORKSPACE,bo_id+1)\n",
    "    img = None\n",
    "    try:\n",
    "        img = Image(filename=path, width=256)\n",
    "    except FileNotFoundError:\n",
    "        print(\"No image file is found.\")\n",
    "    if img:\n",
    "        display(img)"
   ]
  },
  {
   "cell_type": "markdown",
   "metadata": {},
   "source": [
    "## Start a diagnosis session"
   ]
  },
  {
   "cell_type": "code",
   "execution_count": null,
   "metadata": {},
   "outputs": [],
   "source": [
    "start()"
   ]
  },
  {
   "cell_type": "markdown",
   "metadata": {},
   "source": [
    "## Inspect sample images for boundaries (optional)"
   ]
  },
  {
   "cell_type": "code",
   "execution_count": null,
   "metadata": {},
   "outputs": [],
   "source": [
    "inspect_img(94)"
   ]
  },
  {
   "cell_type": "markdown",
   "metadata": {},
   "source": [
    "## Update measurements of the last session"
   ]
  },
  {
   "cell_type": "code",
   "execution_count": null,
   "metadata": {},
   "outputs": [],
   "source": [
    "update()"
   ]
  },
  {
   "cell_type": "markdown",
   "metadata": {},
   "source": [
    "## Show output csv in a dataframe (optional)"
   ]
  },
  {
   "cell_type": "code",
   "execution_count": null,
   "metadata": {},
   "outputs": [],
   "source": [
    "import pandas as pd\n",
    "output=pd.read_csv(\"{}/_tmp_output.csv\".format(WORKSPACE))\n",
    "input=pd.read_csv(\"{}/_tmp_input.csv\".format(WORKSPACE))"
   ]
  },
  {
   "cell_type": "code",
   "execution_count": null,
   "metadata": {},
   "outputs": [],
   "source": [
    "output.columns"
   ]
  },
  {
   "cell_type": "code",
   "execution_count": null,
   "metadata": {},
   "outputs": [],
   "source": [
    "input.columns"
   ]
  },
  {
   "cell_type": "code",
   "execution_count": null,
   "metadata": {},
   "outputs": [],
   "source": [
    "print(input.loc[:,\"u_ev_plus(ev1)\":\"u_ev_minus(ev5)\"])"
   ]
  },
  {
   "cell_type": "markdown",
   "metadata": {},
   "source": [
    "## Reading materials\n",
    "- M. Chen, A. Knapp and K. Dietmayer, \"Possibilistic Causal Reasoning Approach to Functional Deficiency Diagnosis of Automated Driving System,\" 2018 3rd International Conference on System Reliability and Safety (ICSRS), Barcelona, Spain, 2018, pp. 333-339, doi: 10.1109/ICSRS.2018.8688858. https://ieeexplore.ieee.org/document/8688858\n",
    "- M. Chen, A. Knapp, M. Pohl and K. Dietmayer, \"Taming Functional Deficiencies of Automated Driving Systems: a Methodology Framework toward Safety Validation,\" 2018 IEEE Intelligent Vehicles Symposium (IV), Changshu, 2018, pp. 1918-1924, doi: 10.1109/IVS.2018.8500679. https://ieeexplore.ieee.org/document/8500679"
   ]
  }
 ],
 "metadata": {
  "kernelspec": {
   "display_name": "Python 3",
   "language": "python",
   "name": "python3"
  },
  "language_info": {
   "codemirror_mode": {
    "name": "ipython",
    "version": 3
   },
   "file_extension": ".py",
   "mimetype": "text/x-python",
   "name": "python",
   "nbconvert_exporter": "python",
   "pygments_lexer": "ipython3",
   "version": "3.8.5"
  }
 },
 "nbformat": 4,
 "nbformat_minor": 2
}
